{
 "cells": [
  {
   "cell_type": "code",
   "execution_count": 179,
   "id": "1dc1ce6c",
   "metadata": {},
   "outputs": [],
   "source": [
    "import pandas as pd\n",
    "import numpy as np\n",
    "import seaborn as sns\n",
    "import matplotlib.pyplot as plt\n",
    "%matplotlib inline\n",
    "import math"
   ]
  },
  {
   "cell_type": "code",
   "execution_count": 180,
   "id": "5daa9a38",
   "metadata": {},
   "outputs": [
    {
     "data": {
      "text/html": [
       "<div>\n",
       "<style scoped>\n",
       "    .dataframe tbody tr th:only-of-type {\n",
       "        vertical-align: middle;\n",
       "    }\n",
       "\n",
       "    .dataframe tbody tr th {\n",
       "        vertical-align: top;\n",
       "    }\n",
       "\n",
       "    .dataframe thead th {\n",
       "        text-align: right;\n",
       "    }\n",
       "</style>\n",
       "<table border=\"1\" class=\"dataframe\">\n",
       "  <thead>\n",
       "    <tr style=\"text-align: right;\">\n",
       "      <th></th>\n",
       "      <th>age</th>\n",
       "      <th>sex</th>\n",
       "      <th>chest pain</th>\n",
       "      <th>resting bp</th>\n",
       "      <th>cholestrol</th>\n",
       "      <th>fasting blood sugar (1 if &gt;120)</th>\n",
       "      <th>RestECG</th>\n",
       "      <th>Max Heart beat</th>\n",
       "      <th>exng</th>\n",
       "      <th>oldpeak</th>\n",
       "      <th>slp</th>\n",
       "      <th>caa</th>\n",
       "      <th>thall</th>\n",
       "      <th>output</th>\n",
       "    </tr>\n",
       "  </thead>\n",
       "  <tbody>\n",
       "    <tr>\n",
       "      <th>0</th>\n",
       "      <td>63</td>\n",
       "      <td>1</td>\n",
       "      <td>3</td>\n",
       "      <td>145</td>\n",
       "      <td>233</td>\n",
       "      <td>1</td>\n",
       "      <td>0</td>\n",
       "      <td>150</td>\n",
       "      <td>0</td>\n",
       "      <td>2.3</td>\n",
       "      <td>0</td>\n",
       "      <td>0</td>\n",
       "      <td>1</td>\n",
       "      <td>1</td>\n",
       "    </tr>\n",
       "    <tr>\n",
       "      <th>1</th>\n",
       "      <td>37</td>\n",
       "      <td>1</td>\n",
       "      <td>2</td>\n",
       "      <td>130</td>\n",
       "      <td>250</td>\n",
       "      <td>0</td>\n",
       "      <td>1</td>\n",
       "      <td>187</td>\n",
       "      <td>0</td>\n",
       "      <td>3.5</td>\n",
       "      <td>0</td>\n",
       "      <td>0</td>\n",
       "      <td>2</td>\n",
       "      <td>1</td>\n",
       "    </tr>\n",
       "    <tr>\n",
       "      <th>2</th>\n",
       "      <td>41</td>\n",
       "      <td>0</td>\n",
       "      <td>1</td>\n",
       "      <td>130</td>\n",
       "      <td>204</td>\n",
       "      <td>0</td>\n",
       "      <td>0</td>\n",
       "      <td>172</td>\n",
       "      <td>0</td>\n",
       "      <td>1.4</td>\n",
       "      <td>2</td>\n",
       "      <td>0</td>\n",
       "      <td>2</td>\n",
       "      <td>1</td>\n",
       "    </tr>\n",
       "    <tr>\n",
       "      <th>3</th>\n",
       "      <td>56</td>\n",
       "      <td>1</td>\n",
       "      <td>1</td>\n",
       "      <td>120</td>\n",
       "      <td>236</td>\n",
       "      <td>0</td>\n",
       "      <td>1</td>\n",
       "      <td>178</td>\n",
       "      <td>0</td>\n",
       "      <td>0.8</td>\n",
       "      <td>2</td>\n",
       "      <td>0</td>\n",
       "      <td>2</td>\n",
       "      <td>1</td>\n",
       "    </tr>\n",
       "    <tr>\n",
       "      <th>4</th>\n",
       "      <td>57</td>\n",
       "      <td>0</td>\n",
       "      <td>0</td>\n",
       "      <td>120</td>\n",
       "      <td>354</td>\n",
       "      <td>0</td>\n",
       "      <td>1</td>\n",
       "      <td>163</td>\n",
       "      <td>1</td>\n",
       "      <td>0.6</td>\n",
       "      <td>2</td>\n",
       "      <td>0</td>\n",
       "      <td>2</td>\n",
       "      <td>1</td>\n",
       "    </tr>\n",
       "  </tbody>\n",
       "</table>\n",
       "</div>"
      ],
      "text/plain": [
       "   age  sex  chest pain  resting bp  cholestrol  \\\n",
       "0   63    1           3         145         233   \n",
       "1   37    1           2         130         250   \n",
       "2   41    0           1         130         204   \n",
       "3   56    1           1         120         236   \n",
       "4   57    0           0         120         354   \n",
       "\n",
       "   fasting blood sugar (1 if >120)  RestECG  Max Heart beat  exng  oldpeak  \\\n",
       "0                                1        0             150     0      2.3   \n",
       "1                                0        1             187     0      3.5   \n",
       "2                                0        0             172     0      1.4   \n",
       "3                                0        1             178     0      0.8   \n",
       "4                                0        1             163     1      0.6   \n",
       "\n",
       "   slp  caa  thall  output  \n",
       "0    0    0      1       1  \n",
       "1    0    0      2       1  \n",
       "2    2    0      2       1  \n",
       "3    2    0      2       1  \n",
       "4    2    0      2       1  "
      ]
     },
     "execution_count": 180,
     "metadata": {},
     "output_type": "execute_result"
    }
   ],
   "source": [
    "heart_health=pd.read_csv('heart.csv')\n",
    "heart_health.head()"
   ]
  },
  {
   "cell_type": "code",
   "execution_count": 181,
   "id": "4b65943d",
   "metadata": {},
   "outputs": [
    {
     "name": "stdout",
     "output_type": "stream",
     "text": [
      "# of patients considered for observation:303\n"
     ]
    }
   ],
   "source": [
    "print('# of patients considered for observation:'+str(len(heart_health.index)))"
   ]
  },
  {
   "cell_type": "markdown",
   "id": "78dc6e8b",
   "metadata": {},
   "source": [
    "## Analyzing Data"
   ]
  },
  {
   "cell_type": "code",
   "execution_count": 182,
   "id": "e0821c8e",
   "metadata": {},
   "outputs": [
    {
     "data": {
      "text/plain": [
       "<AxesSubplot:xlabel='output', ylabel='count'>"
      ]
     },
     "execution_count": 182,
     "metadata": {},
     "output_type": "execute_result"
    },
    {
     "data": {
      "image/png": "[encoded data removed]",
      "text/plain": [
       "<Figure size 432x288 with 1 Axes>"
      ]
     },
     "metadata": {
      "needs_background": "light"
     },
     "output_type": "display_data"
    }
   ],
   "source": [
    "sns.countplot(x=\"output\",data=heart_health)"
   ]
  },
  {
   "cell_type": "code",
   "execution_count": 183,
   "id": "0e956127",
   "metadata": {},
   "outputs": [],
   "source": [
    "# Around 138 people have less chance of having heart attack and around 165 people are having more chances of having an heart attack"
   ]
  },
  {
   "cell_type": "code",
   "execution_count": 184,
   "id": "f18c22c7",
   "metadata": {},
   "outputs": [
    {
     "data": {
      "text/plain": [
       "<AxesSubplot:xlabel='output', ylabel='count'>"
      ]
     },
     "execution_count": 184,
     "metadata": {},
     "output_type": "execute_result"
    },
    {
     "data": {
      "image/png": "[encoded data removed]",
      "text/plain": [
       "<Figure size 432x288 with 1 Axes>"
      ]
     },
     "metadata": {
      "needs_background": "light"
     },
     "output_type": "display_data"
    }
   ],
   "source": [
    "sns.countplot(x=\"output\",hue='sex', data=heart_health)"
   ]
  },
  {
   "cell_type": "code",
   "execution_count": 185,
   "id": "4f4f6194",
   "metadata": {},
   "outputs": [
    {
     "data": {
      "text/plain": [
       "<AxesSubplot:xlabel='output', ylabel='count'>"
      ]
     },
     "execution_count": 185,
     "metadata": {},
     "output_type": "execute_result"
    },
    {
     "data": {
      "image/png": "[encoded data removed]",
      "text/plain": [
       "<Figure size 432x288 with 1 Axes>"
      ]
     },
     "metadata": {
      "needs_background": "light"
     },
     "output_type": "display_data"
    }
   ],
   "source": [
    "sns.countplot(x=\"output\",hue='fasting blood sugar (1 if >120)', data=heart_health)"
   ]
  },
  {
   "cell_type": "code",
   "execution_count": 186,
   "id": "76000e35",
   "metadata": {},
   "outputs": [
    {
     "data": {
      "text/plain": [
       "<AxesSubplot:xlabel='output', ylabel='count'>"
      ]
     },
     "execution_count": 186,
     "metadata": {},
     "output_type": "execute_result"
    },
    {
     "data": {
      "image/png": "[encoded data removed]",
      "text/plain": [
       "<Figure size 432x288 with 1 Axes>"
      ]
     },
     "metadata": {
      "needs_background": "light"
     },
     "output_type": "display_data"
    }
   ],
   "source": [
    "sns.countplot(x=\"output\",hue='RestECG', data=heart_health)"
   ]
  },
  {
   "cell_type": "code",
   "execution_count": 187,
   "id": "01456720",
   "metadata": {},
   "outputs": [
    {
     "data": {
      "text/plain": [
       "<AxesSubplot:xlabel='output', ylabel='count'>"
      ]
     },
     "execution_count": 187,
     "metadata": {},
     "output_type": "execute_result"
    },
    {
     "data": {
      "image/png": "[encoded data removed]",
      "text/plain": [
       "<Figure size 432x288 with 1 Axes>"
      ]
     },
     "metadata": {
      "needs_background": "light"
     },
     "output_type": "display_data"
    }
   ],
   "source": [
    "sns.countplot(x=\"output\",hue='chest pain', data=heart_health)"
   ]
  },
  {
   "cell_type": "code",
   "execution_count": 188,
   "id": "84f102da",
   "metadata": {},
   "outputs": [
    {
     "data": {
      "text/plain": [
       "<AxesSubplot:xlabel='output', ylabel='count'>"
      ]
     },
     "execution_count": 188,
     "metadata": {},
     "output_type": "execute_result"
    },
    {
     "data": {
      "image/png": "[encoded data removed]",
      "text/plain": [
       "<Figure size 432x288 with 1 Axes>"
      ]
     },
     "metadata": {
      "needs_background": "light"
     },
     "output_type": "display_data"
    }
   ],
   "source": [
    "sns.countplot(x=\"output\",hue='exng', data=heart_health)"
   ]
  },
  {
   "cell_type": "code",
   "execution_count": 189,
   "id": "67edeb41",
   "metadata": {},
   "outputs": [
    {
     "data": {
      "text/plain": [
       "<AxesSubplot:ylabel='Frequency'>"
      ]
     },
     "execution_count": 189,
     "metadata": {},
     "output_type": "execute_result"
    },
    {
     "data": {
      "image/png": "[encoded data removed]",
      "text/plain": [
       "<Figure size 432x288 with 1 Axes>"
      ]
     },
     "metadata": {
      "needs_background": "light"
     },
     "output_type": "display_data"
    }
   ],
   "source": [
    "heart_health['age'].plot.hist()"
   ]
  },
  {
   "cell_type": "code",
   "execution_count": 190,
   "id": "ed7d35c9",
   "metadata": {},
   "outputs": [
    {
     "data": {
      "text/plain": [
       "<AxesSubplot:ylabel='Frequency'>"
      ]
     },
     "execution_count": 190,
     "metadata": {},
     "output_type": "execute_result"
    },
    {
     "data": {
      "image/png": "[encoded data removed]",
      "text/plain": [
       "<Figure size 432x288 with 1 Axes>"
      ]
     },
     "metadata": {
      "needs_background": "light"
     },
     "output_type": "display_data"
    }
   ],
   "source": [
    "heart_health['resting bp'].plot.hist()"
   ]
  },
  {
   "cell_type": "code",
   "execution_count": 191,
   "id": "d5981170",
   "metadata": {},
   "outputs": [
    {
     "name": "stdout",
     "output_type": "stream",
     "text": [
      "<class 'pandas.core.frame.DataFrame'>\n",
      "RangeIndex: 303 entries, 0 to 302\n",
      "Data columns (total 14 columns):\n",
      " #   Column                           Non-Null Count  Dtype  \n",
      "---  ------                           --------------  -----  \n",
      " 0   age                              303 non-null    int64  \n",
      " 1   sex                              303 non-null    int64  \n",
      " 2   chest pain                       303 non-null    int64  \n",
      " 3   resting bp                       303 non-null    int64  \n",
      " 4   cholestrol                       303 non-null    int64  \n",
      " 5   fasting blood sugar (1 if >120)  303 non-null    int64  \n",
      " 6   RestECG                          303 non-null    int64  \n",
      " 7   Max Heart beat                   303 non-null    int64  \n",
      " 8   exng                             303 non-null    int64  \n",
      " 9   oldpeak                          303 non-null    float64\n",
      " 10  slp                              303 non-null    int64  \n",
      " 11  caa                              303 non-null    int64  \n",
      " 12  thall                            303 non-null    int64  \n",
      " 13  output                           303 non-null    int64  \n",
      "dtypes: float64(1), int64(13)\n",
      "memory usage: 33.3 KB\n"
     ]
    }
   ],
   "source": [
    "heart_health.info()"
   ]
  },
  {
   "cell_type": "markdown",
   "id": "7880b01a",
   "metadata": {},
   "source": [
    "## Data Wrangling"
   ]
  },
  {
   "cell_type": "code",
   "execution_count": 192,
   "id": "7c9a318b",
   "metadata": {},
   "outputs": [
    {
     "data": {
      "text/plain": [
       "age                                0\n",
       "sex                                0\n",
       "chest pain                         0\n",
       "resting bp                         0\n",
       "cholestrol                         0\n",
       "fasting blood sugar (1 if >120)    0\n",
       "RestECG                            0\n",
       "Max Heart beat                     0\n",
       "exng                               0\n",
       "oldpeak                            0\n",
       "slp                                0\n",
       "caa                                0\n",
       "thall                              0\n",
       "output                             0\n",
       "dtype: int64"
      ]
     },
     "execution_count": 192,
     "metadata": {},
     "output_type": "execute_result"
    }
   ],
   "source": [
    "heart_health.isnull().sum()"
   ]
  },
  {
   "cell_type": "code",
   "execution_count": 193,
   "id": "021ef36b",
   "metadata": {},
   "outputs": [
    {
     "data": {
      "text/plain": [
       "<AxesSubplot:xlabel='chest pain', ylabel='age'>"
      ]
     },
     "execution_count": 193,
     "metadata": {},
     "output_type": "execute_result"
    },
    {
     "data": {
      "image/png": "[encoded data removed]",
      "text/plain": [
       "<Figure size 432x288 with 1 Axes>"
      ]
     },
     "metadata": {
      "needs_background": "light"
     },
     "output_type": "display_data"
    }
   ],
   "source": [
    "sns.boxplot(x='chest pain', y='age',data=heart_health)"
   ]
  },
  {
   "cell_type": "code",
   "execution_count": 194,
   "id": "f1c6b3f6",
   "metadata": {},
   "outputs": [
    {
     "data": {
      "text/plain": [
       "<AxesSubplot:xlabel='RestECG', ylabel='age'>"
      ]
     },
     "execution_count": 194,
     "metadata": {},
     "output_type": "execute_result"
    },
    {
     "data": {
      "image/png": "[encoded data removed]",
      "text/plain": [
       "<Figure size 432x288 with 1 Axes>"
      ]
     },
     "metadata": {
      "needs_background": "light"
     },
     "output_type": "display_data"
    }
   ],
   "source": [
    "sns.boxplot(x='RestECG', y='age',data=heart_health)"
   ]
  },
  {
   "cell_type": "code",
   "execution_count": 195,
   "id": "416c13cf",
   "metadata": {},
   "outputs": [
    {
     "data": {
      "text/html": [
       "<div>\n",
       "<style scoped>\n",
       "    .dataframe tbody tr th:only-of-type {\n",
       "        vertical-align: middle;\n",
       "    }\n",
       "\n",
       "    .dataframe tbody tr th {\n",
       "        vertical-align: top;\n",
       "    }\n",
       "\n",
       "    .dataframe thead th {\n",
       "        text-align: right;\n",
       "    }\n",
       "</style>\n",
       "<table border=\"1\" class=\"dataframe\">\n",
       "  <thead>\n",
       "    <tr style=\"text-align: right;\">\n",
       "      <th></th>\n",
       "      <th>age</th>\n",
       "      <th>sex</th>\n",
       "      <th>chest pain</th>\n",
       "      <th>resting bp</th>\n",
       "      <th>cholestrol</th>\n",
       "      <th>fasting blood sugar (1 if &gt;120)</th>\n",
       "      <th>RestECG</th>\n",
       "      <th>Max Heart beat</th>\n",
       "      <th>exng</th>\n",
       "      <th>oldpeak</th>\n",
       "      <th>slp</th>\n",
       "      <th>caa</th>\n",
       "      <th>thall</th>\n",
       "      <th>output</th>\n",
       "    </tr>\n",
       "  </thead>\n",
       "  <tbody>\n",
       "    <tr>\n",
       "      <th>0</th>\n",
       "      <td>63</td>\n",
       "      <td>1</td>\n",
       "      <td>3</td>\n",
       "      <td>145</td>\n",
       "      <td>233</td>\n",
       "      <td>1</td>\n",
       "      <td>0</td>\n",
       "      <td>150</td>\n",
       "      <td>0</td>\n",
       "      <td>2.3</td>\n",
       "      <td>0</td>\n",
       "      <td>0</td>\n",
       "      <td>1</td>\n",
       "      <td>1</td>\n",
       "    </tr>\n",
       "    <tr>\n",
       "      <th>1</th>\n",
       "      <td>37</td>\n",
       "      <td>1</td>\n",
       "      <td>2</td>\n",
       "      <td>130</td>\n",
       "      <td>250</td>\n",
       "      <td>0</td>\n",
       "      <td>1</td>\n",
       "      <td>187</td>\n",
       "      <td>0</td>\n",
       "      <td>3.5</td>\n",
       "      <td>0</td>\n",
       "      <td>0</td>\n",
       "      <td>2</td>\n",
       "      <td>1</td>\n",
       "    </tr>\n",
       "    <tr>\n",
       "      <th>2</th>\n",
       "      <td>41</td>\n",
       "      <td>0</td>\n",
       "      <td>1</td>\n",
       "      <td>130</td>\n",
       "      <td>204</td>\n",
       "      <td>0</td>\n",
       "      <td>0</td>\n",
       "      <td>172</td>\n",
       "      <td>0</td>\n",
       "      <td>1.4</td>\n",
       "      <td>2</td>\n",
       "      <td>0</td>\n",
       "      <td>2</td>\n",
       "      <td>1</td>\n",
       "    </tr>\n",
       "    <tr>\n",
       "      <th>3</th>\n",
       "      <td>56</td>\n",
       "      <td>1</td>\n",
       "      <td>1</td>\n",
       "      <td>120</td>\n",
       "      <td>236</td>\n",
       "      <td>0</td>\n",
       "      <td>1</td>\n",
       "      <td>178</td>\n",
       "      <td>0</td>\n",
       "      <td>0.8</td>\n",
       "      <td>2</td>\n",
       "      <td>0</td>\n",
       "      <td>2</td>\n",
       "      <td>1</td>\n",
       "    </tr>\n",
       "    <tr>\n",
       "      <th>4</th>\n",
       "      <td>57</td>\n",
       "      <td>0</td>\n",
       "      <td>0</td>\n",
       "      <td>120</td>\n",
       "      <td>354</td>\n",
       "      <td>0</td>\n",
       "      <td>1</td>\n",
       "      <td>163</td>\n",
       "      <td>1</td>\n",
       "      <td>0.6</td>\n",
       "      <td>2</td>\n",
       "      <td>0</td>\n",
       "      <td>2</td>\n",
       "      <td>1</td>\n",
       "    </tr>\n",
       "  </tbody>\n",
       "</table>\n",
       "</div>"
      ],
      "text/plain": [
       "   age  sex  chest pain  resting bp  cholestrol  \\\n",
       "0   63    1           3         145         233   \n",
       "1   37    1           2         130         250   \n",
       "2   41    0           1         130         204   \n",
       "3   56    1           1         120         236   \n",
       "4   57    0           0         120         354   \n",
       "\n",
       "   fasting blood sugar (1 if >120)  RestECG  Max Heart beat  exng  oldpeak  \\\n",
       "0                                1        0             150     0      2.3   \n",
       "1                                0        1             187     0      3.5   \n",
       "2                                0        0             172     0      1.4   \n",
       "3                                0        1             178     0      0.8   \n",
       "4                                0        1             163     1      0.6   \n",
       "\n",
       "   slp  caa  thall  output  \n",
       "0    0    0      1       1  \n",
       "1    0    0      2       1  \n",
       "2    2    0      2       1  \n",
       "3    2    0      2       1  \n",
       "4    2    0      2       1  "
      ]
     },
     "execution_count": 195,
     "metadata": {},
     "output_type": "execute_result"
    }
   ],
   "source": [
    "heart_health.head(5)"
   ]
  },
  {
   "cell_type": "code",
   "execution_count": 196,
   "id": "a37c8fcb",
   "metadata": {},
   "outputs": [
    {
     "data": {
      "text/html": [
       "<div>\n",
       "<style scoped>\n",
       "    .dataframe tbody tr th:only-of-type {\n",
       "        vertical-align: middle;\n",
       "    }\n",
       "\n",
       "    .dataframe tbody tr th {\n",
       "        vertical-align: top;\n",
       "    }\n",
       "\n",
       "    .dataframe thead th {\n",
       "        text-align: right;\n",
       "    }\n",
       "</style>\n",
       "<table border=\"1\" class=\"dataframe\">\n",
       "  <thead>\n",
       "    <tr style=\"text-align: right;\">\n",
       "      <th></th>\n",
       "      <th>age</th>\n",
       "      <th>sex</th>\n",
       "      <th>chest pain</th>\n",
       "      <th>resting bp</th>\n",
       "      <th>cholestrol</th>\n",
       "      <th>fasting blood sugar (1 if &gt;120)</th>\n",
       "      <th>RestECG</th>\n",
       "      <th>Max Heart beat</th>\n",
       "      <th>exng</th>\n",
       "      <th>oldpeak</th>\n",
       "      <th>slp</th>\n",
       "      <th>caa</th>\n",
       "      <th>thall</th>\n",
       "      <th>output</th>\n",
       "    </tr>\n",
       "  </thead>\n",
       "  <tbody>\n",
       "    <tr>\n",
       "      <th>0</th>\n",
       "      <td>63</td>\n",
       "      <td>1</td>\n",
       "      <td>cp3</td>\n",
       "      <td>145</td>\n",
       "      <td>233</td>\n",
       "      <td>1</td>\n",
       "      <td>0</td>\n",
       "      <td>150</td>\n",
       "      <td>0</td>\n",
       "      <td>2.3</td>\n",
       "      <td>0</td>\n",
       "      <td>0</td>\n",
       "      <td>1</td>\n",
       "      <td>1</td>\n",
       "    </tr>\n",
       "    <tr>\n",
       "      <th>1</th>\n",
       "      <td>37</td>\n",
       "      <td>1</td>\n",
       "      <td>cp2</td>\n",
       "      <td>130</td>\n",
       "      <td>250</td>\n",
       "      <td>0</td>\n",
       "      <td>1</td>\n",
       "      <td>187</td>\n",
       "      <td>0</td>\n",
       "      <td>3.5</td>\n",
       "      <td>0</td>\n",
       "      <td>0</td>\n",
       "      <td>2</td>\n",
       "      <td>1</td>\n",
       "    </tr>\n",
       "    <tr>\n",
       "      <th>2</th>\n",
       "      <td>41</td>\n",
       "      <td>0</td>\n",
       "      <td>cp1</td>\n",
       "      <td>130</td>\n",
       "      <td>204</td>\n",
       "      <td>0</td>\n",
       "      <td>0</td>\n",
       "      <td>172</td>\n",
       "      <td>0</td>\n",
       "      <td>1.4</td>\n",
       "      <td>2</td>\n",
       "      <td>0</td>\n",
       "      <td>2</td>\n",
       "      <td>1</td>\n",
       "    </tr>\n",
       "    <tr>\n",
       "      <th>3</th>\n",
       "      <td>56</td>\n",
       "      <td>1</td>\n",
       "      <td>cp1</td>\n",
       "      <td>120</td>\n",
       "      <td>236</td>\n",
       "      <td>0</td>\n",
       "      <td>1</td>\n",
       "      <td>178</td>\n",
       "      <td>0</td>\n",
       "      <td>0.8</td>\n",
       "      <td>2</td>\n",
       "      <td>0</td>\n",
       "      <td>2</td>\n",
       "      <td>1</td>\n",
       "    </tr>\n",
       "    <tr>\n",
       "      <th>4</th>\n",
       "      <td>57</td>\n",
       "      <td>0</td>\n",
       "      <td>cp0</td>\n",
       "      <td>120</td>\n",
       "      <td>354</td>\n",
       "      <td>0</td>\n",
       "      <td>1</td>\n",
       "      <td>163</td>\n",
       "      <td>1</td>\n",
       "      <td>0.6</td>\n",
       "      <td>2</td>\n",
       "      <td>0</td>\n",
       "      <td>2</td>\n",
       "      <td>1</td>\n",
       "    </tr>\n",
       "  </tbody>\n",
       "</table>\n",
       "</div>"
      ],
      "text/plain": [
       "   age  sex chest pain  resting bp  cholestrol  \\\n",
       "0   63    1        cp3         145         233   \n",
       "1   37    1        cp2         130         250   \n",
       "2   41    0        cp1         130         204   \n",
       "3   56    1        cp1         120         236   \n",
       "4   57    0        cp0         120         354   \n",
       "\n",
       "   fasting blood sugar (1 if >120)  RestECG  Max Heart beat  exng  oldpeak  \\\n",
       "0                                1        0             150     0      2.3   \n",
       "1                                0        1             187     0      3.5   \n",
       "2                                0        0             172     0      1.4   \n",
       "3                                0        1             178     0      0.8   \n",
       "4                                0        1             163     1      0.6   \n",
       "\n",
       "   slp  caa  thall  output  \n",
       "0    0    0      1       1  \n",
       "1    0    0      2       1  \n",
       "2    2    0      2       1  \n",
       "3    2    0      2       1  \n",
       "4    2    0      2       1  "
      ]
     },
     "execution_count": 196,
     "metadata": {},
     "output_type": "execute_result"
    }
   ],
   "source": [
    "heart_health['chest pain']=heart_health['chest pain'].replace({0: 'cp0', 1:'cp1',2: 'cp2', 3: 'cp3'})\n",
    "heart_health.head()\n"
   ]
  },
  {
   "cell_type": "code",
   "execution_count": 197,
   "id": "87c8ede3",
   "metadata": {},
   "outputs": [
    {
     "name": "stdout",
     "output_type": "stream",
     "text": [
      "<class 'pandas.core.frame.DataFrame'>\n",
      "RangeIndex: 303 entries, 0 to 302\n",
      "Data columns (total 14 columns):\n",
      " #   Column                           Non-Null Count  Dtype  \n",
      "---  ------                           --------------  -----  \n",
      " 0   age                              303 non-null    int64  \n",
      " 1   sex                              303 non-null    int64  \n",
      " 2   chest pain                       303 non-null    object \n",
      " 3   resting bp                       303 non-null    int64  \n",
      " 4   cholestrol                       303 non-null    int64  \n",
      " 5   fasting blood sugar (1 if >120)  303 non-null    int64  \n",
      " 6   RestECG                          303 non-null    int64  \n",
      " 7   Max Heart beat                   303 non-null    int64  \n",
      " 8   exng                             303 non-null    int64  \n",
      " 9   oldpeak                          303 non-null    float64\n",
      " 10  slp                              303 non-null    int64  \n",
      " 11  caa                              303 non-null    int64  \n",
      " 12  thall                            303 non-null    int64  \n",
      " 13  output                           303 non-null    int64  \n",
      "dtypes: float64(1), int64(12), object(1)\n",
      "memory usage: 33.3+ KB\n"
     ]
    }
   ],
   "source": [
    "heart_health.info()"
   ]
  },
  {
   "cell_type": "code",
   "execution_count": 198,
   "id": "16d86f67",
   "metadata": {},
   "outputs": [
    {
     "data": {
      "text/html": [
       "<div>\n",
       "<style scoped>\n",
       "    .dataframe tbody tr th:only-of-type {\n",
       "        vertical-align: middle;\n",
       "    }\n",
       "\n",
       "    .dataframe tbody tr th {\n",
       "        vertical-align: top;\n",
       "    }\n",
       "\n",
       "    .dataframe thead th {\n",
       "        text-align: right;\n",
       "    }\n",
       "</style>\n",
       "<table border=\"1\" class=\"dataframe\">\n",
       "  <thead>\n",
       "    <tr style=\"text-align: right;\">\n",
       "      <th></th>\n",
       "      <th>age</th>\n",
       "      <th>sex</th>\n",
       "      <th>resting bp</th>\n",
       "      <th>cholestrol</th>\n",
       "      <th>fasting blood sugar (1 if &gt;120)</th>\n",
       "      <th>RestECG</th>\n",
       "      <th>Max Heart beat</th>\n",
       "      <th>exng</th>\n",
       "      <th>oldpeak</th>\n",
       "      <th>slp</th>\n",
       "      <th>caa</th>\n",
       "      <th>thall</th>\n",
       "      <th>output</th>\n",
       "      <th>chest pain_cp0</th>\n",
       "      <th>chest pain_cp1</th>\n",
       "      <th>chest pain_cp2</th>\n",
       "      <th>chest pain_cp3</th>\n",
       "    </tr>\n",
       "  </thead>\n",
       "  <tbody>\n",
       "    <tr>\n",
       "      <th>0</th>\n",
       "      <td>63</td>\n",
       "      <td>1</td>\n",
       "      <td>145</td>\n",
       "      <td>233</td>\n",
       "      <td>1</td>\n",
       "      <td>0</td>\n",
       "      <td>150</td>\n",
       "      <td>0</td>\n",
       "      <td>2.3</td>\n",
       "      <td>0</td>\n",
       "      <td>0</td>\n",
       "      <td>1</td>\n",
       "      <td>1</td>\n",
       "      <td>0</td>\n",
       "      <td>0</td>\n",
       "      <td>0</td>\n",
       "      <td>1</td>\n",
       "    </tr>\n",
       "    <tr>\n",
       "      <th>1</th>\n",
       "      <td>37</td>\n",
       "      <td>1</td>\n",
       "      <td>130</td>\n",
       "      <td>250</td>\n",
       "      <td>0</td>\n",
       "      <td>1</td>\n",
       "      <td>187</td>\n",
       "      <td>0</td>\n",
       "      <td>3.5</td>\n",
       "      <td>0</td>\n",
       "      <td>0</td>\n",
       "      <td>2</td>\n",
       "      <td>1</td>\n",
       "      <td>0</td>\n",
       "      <td>0</td>\n",
       "      <td>1</td>\n",
       "      <td>0</td>\n",
       "    </tr>\n",
       "    <tr>\n",
       "      <th>2</th>\n",
       "      <td>41</td>\n",
       "      <td>0</td>\n",
       "      <td>130</td>\n",
       "      <td>204</td>\n",
       "      <td>0</td>\n",
       "      <td>0</td>\n",
       "      <td>172</td>\n",
       "      <td>0</td>\n",
       "      <td>1.4</td>\n",
       "      <td>2</td>\n",
       "      <td>0</td>\n",
       "      <td>2</td>\n",
       "      <td>1</td>\n",
       "      <td>0</td>\n",
       "      <td>1</td>\n",
       "      <td>0</td>\n",
       "      <td>0</td>\n",
       "    </tr>\n",
       "    <tr>\n",
       "      <th>3</th>\n",
       "      <td>56</td>\n",
       "      <td>1</td>\n",
       "      <td>120</td>\n",
       "      <td>236</td>\n",
       "      <td>0</td>\n",
       "      <td>1</td>\n",
       "      <td>178</td>\n",
       "      <td>0</td>\n",
       "      <td>0.8</td>\n",
       "      <td>2</td>\n",
       "      <td>0</td>\n",
       "      <td>2</td>\n",
       "      <td>1</td>\n",
       "      <td>0</td>\n",
       "      <td>1</td>\n",
       "      <td>0</td>\n",
       "      <td>0</td>\n",
       "    </tr>\n",
       "    <tr>\n",
       "      <th>4</th>\n",
       "      <td>57</td>\n",
       "      <td>0</td>\n",
       "      <td>120</td>\n",
       "      <td>354</td>\n",
       "      <td>0</td>\n",
       "      <td>1</td>\n",
       "      <td>163</td>\n",
       "      <td>1</td>\n",
       "      <td>0.6</td>\n",
       "      <td>2</td>\n",
       "      <td>0</td>\n",
       "      <td>2</td>\n",
       "      <td>1</td>\n",
       "      <td>1</td>\n",
       "      <td>0</td>\n",
       "      <td>0</td>\n",
       "      <td>0</td>\n",
       "    </tr>\n",
       "  </tbody>\n",
       "</table>\n",
       "</div>"
      ],
      "text/plain": [
       "   age  sex  resting bp  cholestrol  fasting blood sugar (1 if >120)  RestECG  \\\n",
       "0   63    1         145         233                                1        0   \n",
       "1   37    1         130         250                                0        1   \n",
       "2   41    0         130         204                                0        0   \n",
       "3   56    1         120         236                                0        1   \n",
       "4   57    0         120         354                                0        1   \n",
       "\n",
       "   Max Heart beat  exng  oldpeak  slp  caa  thall  output  chest pain_cp0  \\\n",
       "0             150     0      2.3    0    0      1       1               0   \n",
       "1             187     0      3.5    0    0      2       1               0   \n",
       "2             172     0      1.4    2    0      2       1               0   \n",
       "3             178     0      0.8    2    0      2       1               0   \n",
       "4             163     1      0.6    2    0      2       1               1   \n",
       "\n",
       "   chest pain_cp1  chest pain_cp2  chest pain_cp3  \n",
       "0               0               0               1  \n",
       "1               0               1               0  \n",
       "2               1               0               0  \n",
       "3               1               0               0  \n",
       "4               0               0               0  "
      ]
     },
     "execution_count": 198,
     "metadata": {},
     "output_type": "execute_result"
    }
   ],
   "source": [
    "heart_health=pd.get_dummies(heart_health, columns=['chest pain'])\n",
    "heart_health.head()"
   ]
  },
  {
   "cell_type": "code",
   "execution_count": 199,
   "id": "55b86c05",
   "metadata": {},
   "outputs": [],
   "source": [
    "heart_health['sex']=heart_health['sex'].replace({0: 'male', 1:'female'})\n",
    "heart_health=pd.get_dummies(heart_health, columns=['sex'])"
   ]
  },
  {
   "cell_type": "code",
   "execution_count": 200,
   "id": "4792c3e4",
   "metadata": {},
   "outputs": [],
   "source": [
    "heart_health['fasting blood sugar (1 if >120)']=heart_health['fasting blood sugar (1 if >120)'].replace({0: 'good', 1:'bad'})\n",
    "heart_health=pd.get_dummies(heart_health, columns=['fasting blood sugar (1 if >120)'])"
   ]
  },
  {
   "cell_type": "code",
   "execution_count": 201,
   "id": "52bbe514",
   "metadata": {},
   "outputs": [],
   "source": [
    "heart_health['RestECG']=heart_health['RestECG'].replace({0: 'good', 1:'bad', 2: 'very bad'})\n",
    "heart_health=pd.get_dummies(heart_health, columns=['RestECG'])"
   ]
  },
  {
   "cell_type": "code",
   "execution_count": 202,
   "id": "72e63aef",
   "metadata": {},
   "outputs": [],
   "source": [
    "heart_health['exng']=heart_health['exng'].replace({0: 'normal', 1:'not normal'})\n",
    "heart_health=pd.get_dummies(heart_health, columns=['exng'])"
   ]
  },
  {
   "cell_type": "code",
   "execution_count": 203,
   "id": "7e192d00",
   "metadata": {},
   "outputs": [],
   "source": [
    "heart_health['slp']=heart_health['slp'].replace({0: 'good', 1:'bad', 2: 'very bad'})\n",
    "heart_health=pd.get_dummies(heart_health, columns=['slp'])"
   ]
  },
  {
   "cell_type": "code",
   "execution_count": 204,
   "id": "23f8441f",
   "metadata": {},
   "outputs": [],
   "source": [
    "heart_health['thall']=heart_health['thall'].replace({0: 'good', 1:'bad', 2: 'very bad'})\n",
    "heart_health=pd.get_dummies(heart_health, columns=['thall'])"
   ]
  },
  {
   "cell_type": "code",
   "execution_count": 205,
   "id": "eb5d4fef",
   "metadata": {},
   "outputs": [],
   "source": [
    "heart_health['caa']=heart_health['caa'].replace({0: 'vey bad', 1:'bad', 2: 'moderate', 3:'good', 4:'very good'})\n",
    "heart_health=pd.get_dummies(heart_health, columns=['caa'])"
   ]
  },
  {
   "cell_type": "code",
   "execution_count": 206,
   "id": "6727962b",
   "metadata": {},
   "outputs": [
    {
     "data": {
      "text/html": [
       "<div>\n",
       "<style scoped>\n",
       "    .dataframe tbody tr th:only-of-type {\n",
       "        vertical-align: middle;\n",
       "    }\n",
       "\n",
       "    .dataframe tbody tr th {\n",
       "        vertical-align: top;\n",
       "    }\n",
       "\n",
       "    .dataframe thead th {\n",
       "        text-align: right;\n",
       "    }\n",
       "</style>\n",
       "<table border=\"1\" class=\"dataframe\">\n",
       "  <thead>\n",
       "    <tr style=\"text-align: right;\">\n",
       "      <th></th>\n",
       "      <th>age</th>\n",
       "      <th>resting bp</th>\n",
       "      <th>cholestrol</th>\n",
       "      <th>Max Heart beat</th>\n",
       "      <th>oldpeak</th>\n",
       "      <th>output</th>\n",
       "      <th>chest pain_cp0</th>\n",
       "      <th>chest pain_cp1</th>\n",
       "      <th>chest pain_cp2</th>\n",
       "      <th>chest pain_cp3</th>\n",
       "      <th>...</th>\n",
       "      <th>slp_very bad</th>\n",
       "      <th>thall_3</th>\n",
       "      <th>thall_bad</th>\n",
       "      <th>thall_good</th>\n",
       "      <th>thall_very bad</th>\n",
       "      <th>caa_bad</th>\n",
       "      <th>caa_good</th>\n",
       "      <th>caa_moderate</th>\n",
       "      <th>caa_very good</th>\n",
       "      <th>caa_vey bad</th>\n",
       "    </tr>\n",
       "  </thead>\n",
       "  <tbody>\n",
       "    <tr>\n",
       "      <th>0</th>\n",
       "      <td>63</td>\n",
       "      <td>145</td>\n",
       "      <td>233</td>\n",
       "      <td>150</td>\n",
       "      <td>2.3</td>\n",
       "      <td>1</td>\n",
       "      <td>0</td>\n",
       "      <td>0</td>\n",
       "      <td>0</td>\n",
       "      <td>1</td>\n",
       "      <td>...</td>\n",
       "      <td>0</td>\n",
       "      <td>0</td>\n",
       "      <td>1</td>\n",
       "      <td>0</td>\n",
       "      <td>0</td>\n",
       "      <td>0</td>\n",
       "      <td>0</td>\n",
       "      <td>0</td>\n",
       "      <td>0</td>\n",
       "      <td>1</td>\n",
       "    </tr>\n",
       "    <tr>\n",
       "      <th>1</th>\n",
       "      <td>37</td>\n",
       "      <td>130</td>\n",
       "      <td>250</td>\n",
       "      <td>187</td>\n",
       "      <td>3.5</td>\n",
       "      <td>1</td>\n",
       "      <td>0</td>\n",
       "      <td>0</td>\n",
       "      <td>1</td>\n",
       "      <td>0</td>\n",
       "      <td>...</td>\n",
       "      <td>0</td>\n",
       "      <td>0</td>\n",
       "      <td>0</td>\n",
       "      <td>0</td>\n",
       "      <td>1</td>\n",
       "      <td>0</td>\n",
       "      <td>0</td>\n",
       "      <td>0</td>\n",
       "      <td>0</td>\n",
       "      <td>1</td>\n",
       "    </tr>\n",
       "    <tr>\n",
       "      <th>2</th>\n",
       "      <td>41</td>\n",
       "      <td>130</td>\n",
       "      <td>204</td>\n",
       "      <td>172</td>\n",
       "      <td>1.4</td>\n",
       "      <td>1</td>\n",
       "      <td>0</td>\n",
       "      <td>1</td>\n",
       "      <td>0</td>\n",
       "      <td>0</td>\n",
       "      <td>...</td>\n",
       "      <td>1</td>\n",
       "      <td>0</td>\n",
       "      <td>0</td>\n",
       "      <td>0</td>\n",
       "      <td>1</td>\n",
       "      <td>0</td>\n",
       "      <td>0</td>\n",
       "      <td>0</td>\n",
       "      <td>0</td>\n",
       "      <td>1</td>\n",
       "    </tr>\n",
       "    <tr>\n",
       "      <th>3</th>\n",
       "      <td>56</td>\n",
       "      <td>120</td>\n",
       "      <td>236</td>\n",
       "      <td>178</td>\n",
       "      <td>0.8</td>\n",
       "      <td>1</td>\n",
       "      <td>0</td>\n",
       "      <td>1</td>\n",
       "      <td>0</td>\n",
       "      <td>0</td>\n",
       "      <td>...</td>\n",
       "      <td>1</td>\n",
       "      <td>0</td>\n",
       "      <td>0</td>\n",
       "      <td>0</td>\n",
       "      <td>1</td>\n",
       "      <td>0</td>\n",
       "      <td>0</td>\n",
       "      <td>0</td>\n",
       "      <td>0</td>\n",
       "      <td>1</td>\n",
       "    </tr>\n",
       "    <tr>\n",
       "      <th>4</th>\n",
       "      <td>57</td>\n",
       "      <td>120</td>\n",
       "      <td>354</td>\n",
       "      <td>163</td>\n",
       "      <td>0.6</td>\n",
       "      <td>1</td>\n",
       "      <td>1</td>\n",
       "      <td>0</td>\n",
       "      <td>0</td>\n",
       "      <td>0</td>\n",
       "      <td>...</td>\n",
       "      <td>1</td>\n",
       "      <td>0</td>\n",
       "      <td>0</td>\n",
       "      <td>0</td>\n",
       "      <td>1</td>\n",
       "      <td>0</td>\n",
       "      <td>0</td>\n",
       "      <td>0</td>\n",
       "      <td>0</td>\n",
       "      <td>1</td>\n",
       "    </tr>\n",
       "  </tbody>\n",
       "</table>\n",
       "<p>5 rows × 31 columns</p>\n",
       "</div>"
      ],
      "text/plain": [
       "   age  resting bp  cholestrol  Max Heart beat  oldpeak  output  \\\n",
       "0   63         145         233             150      2.3       1   \n",
       "1   37         130         250             187      3.5       1   \n",
       "2   41         130         204             172      1.4       1   \n",
       "3   56         120         236             178      0.8       1   \n",
       "4   57         120         354             163      0.6       1   \n",
       "\n",
       "   chest pain_cp0  chest pain_cp1  chest pain_cp2  chest pain_cp3  ...  \\\n",
       "0               0               0               0               1  ...   \n",
       "1               0               0               1               0  ...   \n",
       "2               0               1               0               0  ...   \n",
       "3               0               1               0               0  ...   \n",
       "4               1               0               0               0  ...   \n",
       "\n",
       "   slp_very bad  thall_3  thall_bad  thall_good  thall_very bad  caa_bad  \\\n",
       "0             0        0          1           0               0        0   \n",
       "1             0        0          0           0               1        0   \n",
       "2             1        0          0           0               1        0   \n",
       "3             1        0          0           0               1        0   \n",
       "4             1        0          0           0               1        0   \n",
       "\n",
       "   caa_good  caa_moderate  caa_very good  caa_vey bad  \n",
       "0         0             0              0            1  \n",
       "1         0             0              0            1  \n",
       "2         0             0              0            1  \n",
       "3         0             0              0            1  \n",
       "4         0             0              0            1  \n",
       "\n",
       "[5 rows x 31 columns]"
      ]
     },
     "execution_count": 206,
     "metadata": {},
     "output_type": "execute_result"
    }
   ],
   "source": [
    "heart_health.head()"
   ]
  },
  {
   "cell_type": "code",
   "execution_count": 207,
   "id": "91bd460d",
   "metadata": {},
   "outputs": [
    {
     "data": {
      "text/plain": [
       "Index(['age', 'resting bp', 'cholestrol', 'Max Heart beat', 'oldpeak',\n",
       "       'output', 'chest pain_cp0', 'chest pain_cp1', 'chest pain_cp2',\n",
       "       'chest pain_cp3', 'sex_female', 'sex_male',\n",
       "       'fasting blood sugar (1 if >120)_bad',\n",
       "       'fasting blood sugar (1 if >120)_good', 'RestECG_bad', 'RestECG_good',\n",
       "       'RestECG_very bad', 'exng_normal', 'exng_not normal', 'slp_bad',\n",
       "       'slp_good', 'slp_very bad', 'thall_3', 'thall_bad', 'thall_good',\n",
       "       'thall_very bad', 'caa_bad', 'caa_good', 'caa_moderate',\n",
       "       'caa_very good', 'caa_vey bad'],\n",
       "      dtype='object')"
      ]
     },
     "execution_count": 207,
     "metadata": {},
     "output_type": "execute_result"
    }
   ],
   "source": [
    "heart_health.columns"
   ]
  },
  {
   "cell_type": "code",
   "execution_count": 208,
   "id": "0b5680a6",
   "metadata": {},
   "outputs": [],
   "source": [
    "# X=heart_health.drop(['chest pain'], axis=1)"
   ]
  },
  {
   "cell_type": "code",
   "execution_count": 209,
   "id": "8348de2f",
   "metadata": {},
   "outputs": [
    {
     "ename": "AttributeError",
     "evalue": "'numpy.ndarray' object has no attribute 'columns'",
     "output_type": "error",
     "traceback": [
      "\u001b[1;31m---------------------------------------------------------------------------\u001b[0m",
      "\u001b[1;31mAttributeError\u001b[0m                            Traceback (most recent call last)",
      "\u001b[1;32m<ipython-input-209-901c1061bf7c>\u001b[0m in \u001b[0;36m<module>\u001b[1;34m\u001b[0m\n\u001b[1;32m----> 1\u001b[1;33m \u001b[0mX\u001b[0m\u001b[1;33m.\u001b[0m\u001b[0mcolumns\u001b[0m\u001b[1;33m\u001b[0m\u001b[1;33m\u001b[0m\u001b[0m\n\u001b[0m",
      "\u001b[1;31mAttributeError\u001b[0m: 'numpy.ndarray' object has no attribute 'columns'"
     ]
    }
   ],
   "source": [
    "X.columns"
   ]
  },
  {
   "cell_type": "markdown",
   "id": "c8835c64",
   "metadata": {},
   "source": [
    "# Train Data"
   ]
  },
  {
   "cell_type": "code",
   "execution_count": 210,
   "id": "148946b5",
   "metadata": {},
   "outputs": [],
   "source": [
    "X=heart_health.drop('output',axis=1)\n",
    "y=heart_health['output']"
   ]
  },
  {
   "cell_type": "code",
   "execution_count": 212,
   "id": "6c3e3abf",
   "metadata": {},
   "outputs": [
    {
     "data": {
      "text/plain": [
       "array([[ 63., 145., 233., ...,   0.,   0.,   1.],\n",
       "       [ 37., 130., 250., ...,   0.,   0.,   1.],\n",
       "       [ 41., 130., 204., ...,   0.,   0.,   1.],\n",
       "       ...,\n",
       "       [ 68., 144., 193., ...,   1.,   0.,   0.],\n",
       "       [ 57., 130., 131., ...,   0.,   0.,   0.],\n",
       "       [ 57., 130., 236., ...,   0.,   0.,   0.]])"
      ]
     },
     "execution_count": 212,
     "metadata": {},
     "output_type": "execute_result"
    }
   ],
   "source": [
    "X=np.array(X)\n",
    "X"
   ]
  },
  {
   "cell_type": "code",
   "execution_count": 213,
   "id": "ff9f153c",
   "metadata": {},
   "outputs": [],
   "source": [
    "from sklearn.model_selection import train_test_split"
   ]
  },
  {
   "cell_type": "code",
   "execution_count": 214,
   "id": "9ff9b532",
   "metadata": {},
   "outputs": [],
   "source": [
    "X_train, X_test, y_train, y_test = train_test_split(X, y, test_size=0.2, random_state=4)"
   ]
  },
  {
   "cell_type": "markdown",
   "id": "d45b5577",
   "metadata": {},
   "source": [
    "## Scaling the data"
   ]
  },
  {
   "cell_type": "code",
   "execution_count": 215,
   "id": "8109c49c",
   "metadata": {},
   "outputs": [],
   "source": [
    "from sklearn.preprocessing import StandardScaler"
   ]
  },
  {
   "cell_type": "code",
   "execution_count": 216,
   "id": "a6d38a26",
   "metadata": {},
   "outputs": [],
   "source": [
    "standrd = StandardScaler()\n",
    "X_train = standrd.fit_transform(X_train)"
   ]
  },
  {
   "cell_type": "code",
   "execution_count": 217,
   "id": "ab451c0b",
   "metadata": {},
   "outputs": [],
   "source": [
    "X_test = standrd.transform(X_test)"
   ]
  },
  {
   "cell_type": "code",
   "execution_count": 218,
   "id": "88782ae2",
   "metadata": {},
   "outputs": [],
   "source": [
    "from sklearn.linear_model import LogisticRegression"
   ]
  },
  {
   "cell_type": "code",
   "execution_count": 219,
   "id": "fedc02b7",
   "metadata": {},
   "outputs": [],
   "source": [
    "logmodel=LogisticRegression()"
   ]
  },
  {
   "cell_type": "code",
   "execution_count": 220,
   "id": "b030c7c9",
   "metadata": {},
   "outputs": [
    {
     "data": {
      "text/plain": [
       "LogisticRegression()"
      ]
     },
     "execution_count": 220,
     "metadata": {},
     "output_type": "execute_result"
    }
   ],
   "source": [
    "logmodel.fit(X_train, y_train)"
   ]
  },
  {
   "cell_type": "code",
   "execution_count": 221,
   "id": "d43c1f86",
   "metadata": {},
   "outputs": [],
   "source": [
    "predictions=logmodel.predict(X_test)"
   ]
  },
  {
   "cell_type": "code",
   "execution_count": 222,
   "id": "1690cf31",
   "metadata": {},
   "outputs": [],
   "source": [
    "from sklearn.metrics import classification_report"
   ]
  },
  {
   "cell_type": "code",
   "execution_count": 223,
   "id": "29130590",
   "metadata": {},
   "outputs": [
    {
     "data": {
      "text/plain": [
       "'              precision    recall  f1-score   support\\n\\n           0       0.88      0.88      0.88        25\\n           1       0.92      0.92      0.92        36\\n\\n    accuracy                           0.90        61\\n   macro avg       0.90      0.90      0.90        61\\nweighted avg       0.90      0.90      0.90        61\\n'"
      ]
     },
     "execution_count": 223,
     "metadata": {},
     "output_type": "execute_result"
    }
   ],
   "source": [
    "classification_report(y_test,predictions)"
   ]
  },
  {
   "cell_type": "code",
   "execution_count": 224,
   "id": "49d14a23",
   "metadata": {},
   "outputs": [],
   "source": [
    "from sklearn.metrics import confusion_matrix"
   ]
  },
  {
   "cell_type": "code",
   "execution_count": 225,
   "id": "a47004f4",
   "metadata": {},
   "outputs": [
    {
     "data": {
      "text/plain": [
       "array([[22,  3],\n",
       "       [ 3, 33]], dtype=int64)"
      ]
     },
     "execution_count": 225,
     "metadata": {},
     "output_type": "execute_result"
    }
   ],
   "source": [
    "confusion_matrix(y_test,predictions)"
   ]
  },
  {
   "cell_type": "code",
   "execution_count": 226,
   "id": "5f0541ac",
   "metadata": {},
   "outputs": [],
   "source": [
    "from sklearn.metrics import accuracy_score"
   ]
  },
  {
   "cell_type": "code",
   "execution_count": 227,
   "id": "9ca610b8",
   "metadata": {},
   "outputs": [
    {
     "data": {
      "text/plain": [
       "0.9016393442622951"
      ]
     },
     "execution_count": 227,
     "metadata": {},
     "output_type": "execute_result"
    }
   ],
   "source": [
    "accuracy_score(y_test,predictions)"
   ]
  },
  {
   "cell_type": "code",
   "execution_count": 228,
   "id": "94fdc1ae",
   "metadata": {
    "scrolled": true
   },
   "outputs": [
    {
     "data": {
      "image/png": "[encoded data removed]",
      "text/plain": [
       "<Figure size 432x288 with 2 Axes>"
      ]
     },
     "metadata": {
      "needs_background": "light"
     },
     "output_type": "display_data"
    }
   ],
   "source": [
    "plt.pcolor(heart_health, cmap='RdBu')\n",
    "plt.colorbar()\n",
    "plt.show()"
   ]
  },
  {
   "cell_type": "code",
   "execution_count": null,
   "id": "17564cd3",
   "metadata": {},
   "outputs": [],
   "source": []
  }
 ],
 "metadata": {
  "kernelspec": {
   "display_name": "Python 3",
   "language": "python",
   "name": "python3"
  },
  "language_info": {
   "codemirror_mode": {
    "name": "ipython",
    "version": 3
   },
   "file_extension": ".py",
   "mimetype": "text/x-python",
   "name": "python",
   "nbconvert_exporter": "python",
   "pygments_lexer": "ipython3",
   "version": "3.8.8"
  }
 },
 "nbformat": 4,
 "nbformat_minor": 5
}
